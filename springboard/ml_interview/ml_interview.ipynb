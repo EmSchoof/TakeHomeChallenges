{
 "cells": [
  {
   "cell_type": "markdown",
   "metadata": {},
   "source": [
    "#### Five years’ worth of historical ticketing data in JSON file dumps on a server, which consist of the following attributes.\n",
    "- ticket_id: A unique identifier for a customer ticket\n",
    "- short_desc: Short description of the issue faced by the user\n",
    "- long_desc: A JSON field consisting of detailed information like the employee id, location, site and detailed description of the issue.\n",
    "- attachments: Depicts path to optional image attachments depicting more information about the issue\n",
    "- root_cause: The root cause or the issue behind the problem which has been manually assigned by specialists "
   ]
  },
  {
   "cell_type": "markdown",
   "metadata": {},
   "source": [
    "## Objective: Look at the data snapshot and sample root causes in the following pages:\n",
    "\n",
    "#### 1. Describe in detail about the problem you are solving from the business perspective as well as the type of machine learning task it represents.\n",
    "\n",
    "#### 2 . Focus on how you can build a complete end to end system for predicting root cause and cover the following steps in details (methods, tools, techniques, approaches)\n",
    "- Data Retrieval\n",
    "- Data Cleaning \\ Wrangling\n",
    "- Exploratory Data Analysis\n",
    "- Feature Engineering & Feature Selection o Modeling\n",
    "- Model Evaluation \\ Interpretation\n",
    "- Deployment"
   ]
  },
  {
   "cell_type": "code",
   "execution_count": null,
   "metadata": {},
   "outputs": [],
   "source": [
    " "
   ]
  }
 ],
 "metadata": {
  "kernelspec": {
   "display_name": "Python 3",
   "language": "python",
   "name": "python3"
  },
  "language_info": {
   "codemirror_mode": {
    "name": "ipython",
    "version": 3
   },
   "file_extension": ".py",
   "mimetype": "text/x-python",
   "name": "python",
   "nbconvert_exporter": "python",
   "pygments_lexer": "ipython3",
   "version": "3.7.3"
  }
 },
 "nbformat": 4,
 "nbformat_minor": 2
}
